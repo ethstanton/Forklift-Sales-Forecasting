{
 "cells": [
  {
   "cell_type": "markdown",
   "id": "5741c96a",
   "metadata": {},
   "source": [
    "# 🏗️ Forklift Sales Forecasting with AI\n",
    "This notebook uses realistic forklift sales data to build a forecasting model for total monthly sales."
   ]
  },
  {
   "cell_type": "code",
   "execution_count": null,
   "id": "1f1b9b9b",
   "metadata": {},
   "outputs": [],
   "source": [
    "# Install required libraries\n",
    "!pip install -q statsmodels"
   ]
  },
  {
   "cell_type": "code",
   "execution_count": null,
   "id": "ed169bb0",
   "metadata": {},
   "outputs": [],
   "source": [
    "# Load and preview data\n",
    "import pandas as pd\n",
    "import matplotlib.pyplot as plt\n",
    "import seaborn as sns\n",
    "\n",
    "df = pd.read_csv('forklift_sales.csv')\n",
    "df['date'] = pd.to_datetime(df['date'])\n",
    "df = df.sort_values('date')\n",
    "df.head()\n"
   ]
  },
  {
   "cell_type": "code",
   "execution_count": null,
   "id": "a90d6742",
   "metadata": {},
   "outputs": [],
   "source": [
    "# Create monthly sales totals\n",
    "monthly_sales = df.resample('M', on='date').sum()['total_sale'].reset_index()\n",
    "monthly_sales.head()\n"
   ]
  },
  {
   "cell_type": "code",
   "execution_count": null,
   "id": "b2290829",
   "metadata": {},
   "outputs": [],
   "source": [
    "# Plot the sales data\n",
    "plt.figure(figsize=(12,6))\n",
    "plt.plot(monthly_sales['date'], monthly_sales['total_sale'], marker='o')\n",
    "plt.title(\"Monthly Forklift Sales ($)\")\n",
    "plt.xlabel(\"Date\")\n",
    "plt.ylabel(\"Total Sales\")\n",
    "plt.grid(True)\n",
    "plt.show()\n"
   ]
  },
  {
   "cell_type": "code",
   "execution_count": null,
   "id": "91218eba",
   "metadata": {},
   "outputs": [],
   "source": [
    "# Build an Exponential Smoothing forecast model\n",
    "from statsmodels.tsa.api import ExponentialSmoothing\n",
    "\n",
    "model = ExponentialSmoothing(monthly_sales['total_sale'], seasonal='add', seasonal_periods=12)\n",
    "fit = model.fit()\n",
    "forecast = fit.forecast(6)\n",
    "\n",
    "# Plot forecast\n",
    "plt.figure(figsize=(12,6))\n",
    "plt.plot(monthly_sales['total_sale'], label='Historical Sales')\n",
    "plt.plot(range(len(monthly_sales), len(monthly_sales)+6), forecast, label='Forecast', marker='o')\n",
    "plt.title(\"Forklift Sales Forecast (Next 6 Months)\")\n",
    "plt.legend()\n",
    "plt.grid(True)\n",
    "plt.show()\n"
   ]
  },
  {
   "cell_type": "markdown",
   "id": "3b11c332",
   "metadata": {},
   "source": [
    "## ✅ Next Steps\n",
    "- Replace the dataset with your real company sales data.\n",
    "- Try other models (ARIMA, XGBoost, Prophet).\n",
    "- Add weather, lead time, or marketing campaign data as new features."
   ]
  }
 ],
 "metadata": {},
 "nbformat": 4,
 "nbformat_minor": 5
}
